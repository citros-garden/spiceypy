{
    "cells": [
        {
            "cell_type": "markdown",
            "id": "4dfd883c5947d626b8d86c9da15d4cb0",
            "metadata": {},
            "source": [
                "#### SpiceyPy Simulation Analysis example\n",
                "This example shows the basic CITROS data analysis functions using the results of Cassini orbit simulation.\n",
                "\n",
                "First of all, we should import all neccesary libs:"
            ]
        },
        {
            "cell_type": "code",
            "execution_count": null,
            "id": "d332aae2f12d8e6b0a945ff72b859d7a",
            "metadata": {
                "execution": {
                    "iopub.execute_input": 266
                }
            },
            "outputs": [],
            "source": [
                "import numpy as np\n",
                "import matplotlib.pyplot as plt\n",
                "from prettytable import PrettyTable, ALL\n",
                "import json\n",
                "from platform import python_version\n",
                "from citros import CitrosDB"
            ]
        },
        {
            "cell_type": "markdown",
            "id": "3cee706ab3805b8326442c0129521d03",
            "metadata": {},
            "source": [
                "Now we can connect to the simulation database:"
            ]
        },
        {
            "cell_type": "code",
            "execution_count": null,
            "id": "4fdfa0cc391b208dc3ea914bb185014c",
            "metadata": {
                "execution": {
                    "iopub.execute_input": 328
                }
            },
            "outputs": [],
            "source": [
                "citros = CitrosDB(simulation='simulation_spiceypy_cassini', batch='spiceypy_cassini')\n",
                "citros.info().print()"
            ]
        },
        {
            "cell_type": "markdown",
            "id": "4161cf731a20cdf8129a53349d820c28",
            "metadata": {},
            "source": [
                "As you can see in the output above, we've got some information about our simulation run (batch):\n",
                "1. Size of data\n",
                "2. Sid information. In case we have more then one sid - this will be shown here.\n",
                "3. Number and a list of topics. First three topics are build-in system topics, and the last one is our simulation results. \n",
                "\n",
                "Let's go further:"
            ]
        },
        {
            "cell_type": "code",
            "execution_count": null,
            "id": "bdb0f66c7902ce90d37aa01c13340cdd",
            "metadata": {
                "execution": {
                    "iopub.execute_input": 283
                }
            },
            "outputs": [],
            "source": [
                "citros.sid([0]).info().print()"
            ]
        },
        {
            "cell_type": "markdown",
            "id": "d5a9ed6086f13e5e21da93eef6f924cf",
            "metadata": {},
            "source": [
                "This shows us more detailed statistics about topics: time stamps, durations, number of messages etc.\n",
                "Let's inspect our data topic:"
            ]
        },
        {
            "cell_type": "code",
            "execution_count": null,
            "id": "4473c55eaef48287bc5cdb065b13f6f1",
            "metadata": {
                "execution": {
                    "iopub.execute_input": 371
                }
            },
            "outputs": [],
            "source": [
                "citros.topic('/spiceypy_cassini/state').sid(0).info().print()"
            ]
        },
        {
            "cell_type": "markdown",
            "id": "8d69988312c169b677ac70caf4637478",
            "metadata": {},
            "source": [
                "Here we can see that our data topic contains 400 messages, and each one's type is a list. \n",
                "Let's print all raw data:"
            ]
        },
        {
            "cell_type": "code",
            "execution_count": null,
            "id": "713b75738615135e0f312a87d4474007",
            "metadata": {
                "execution": {
                    "iopub.execute_input": 258
                }
            },
            "outputs": [],
            "source": [
                "print(citros.topic('/spiceypy_cassini/state').data())"
            ]
        },
        {
            "cell_type": "markdown",
            "id": "71e72dbdbdfddb6ae990d68ce767957f",
            "metadata": {},
            "source": [
                "To get all json-data columns for a specific topic, function data() is used. It returns pandas DataFrame. To get a specific columns, pass their labels in a list as an argument:"
            ]
        },
        {
            "cell_type": "code",
            "execution_count": null,
            "id": "5ac261ca0aa3c01ca7bf193c2c749a2b",
            "metadata": {
                "execution": {
                    "iopub.execute_input": 257
                }
            },
            "outputs": [],
            "source": [
                "print(citros.topic('/spiceypy_cassini/state').data(['data.data[0]','data.data[1]'])[['data.data[0]', 'data.data[1]']])"
            ]
        },
        {
            "cell_type": "markdown",
            "id": "80918b9967d63269bc6fe251160af267",
            "metadata": {},
            "source": [
                "Now we can create some plots. Let's plot coordinates along one of the axes (supposing messages come once a second): "
            ]
        },
        {
            "cell_type": "code",
            "execution_count": null,
            "id": "d1d7cc09b1d1235ccc8d24b307044a0b",
            "metadata": {
                "execution": {
                    "iopub.execute_input": 956
                }
            },
            "outputs": [],
            "source": [
                "fig1, ax1 = plt.subplots()\n",
                "\n",
                "citros.time_plot(ax1, \n",
                "                 topic_name = '/spiceypy_cassini/state', \n",
                "                 var_name = 'data.data[0]', \n",
                "                 time_step = 1, \n",
                "                 sids = [0], \n",
                "                 y_label = 'X coords', title_text = 'X coords vs. Time')"
            ]
        },
        {
            "cell_type": "markdown",
            "id": "6fb5d6c50f0eec726ad4d4d4c767e920",
            "metadata": {},
            "source": [
                "To create a 3D plot of our Cassini trajectory, we can use Matplotlib standart functions:"
            ]
        },
        {
            "cell_type": "code",
            "execution_count": null,
            "id": "6fecaf0d09b8e5bb17d9debb1d89ea2c",
            "metadata": {
                "execution": {
                    "iopub.execute_input": 1036
                }
            },
            "outputs": [],
            "source": [
                "df = citros.topic('/spiceypy_cassini/state')\\\n",
                "           .sid([0])\\\n",
                "           .data(['data.data[0]', 'data.data[1]', 'data.data[2]'])\n",
                "\n",
                "fig, ax = citros.plot_3dgraph(df, 'data.data[0]', 'data.data[1]', 'data.data[2]', \n",
                "                 scale = False, title = 'Results', set_x_label='X', set_y_label='Y', set_z_label='Z',\n",
                "                 legend = True, )\n",
                "\n",
                "ax.set_box_aspect(aspect=None, zoom=0.9)\n",
                "ax.view_init(10, 10, 0)\n",
                "\n",
                "fig.tight_layout() "
            ]
        },
        {
            "cell_type": "markdown",
            "id": "bfda1aa0c8f56f9c942beb6498f08e87",
            "metadata": {},
            "source": [
                "Let's do some simple research. We know trajectory and flight time (from the params.yaml or from simulation setup), so we can calculate velocity:\n",
                "1. Flight duration: Jun 20, 2004 - Dec 1, 2004 (14 169 600 seconds)\n",
                "2. 400 messages (1 message per 35 422.5 sec)\n",
                "\n",
                "First, we will do it using standart Python (and Numpy) syntax:"
            ]
        },
        {
            "cell_type": "code",
            "execution_count": null,
            "id": "7109844063af3d73d7262a57609409d6",
            "metadata": {
                "execution": {
                    "iopub.execute_input": 258
                }
            },
            "outputs": [],
            "source": [
                "# Getting data to Pandas DataFrame\n",
                "data=citros.topic('/spiceypy_cassini/state').data(['data.data[0]','data.data[1]','data.data[2]'])[['data.data[0]', 'data.data[1]','data.data[2]']]\n",
                "# Converting to nympy array\n",
                "data=data.to_numpy()\n",
                "\n",
                "# Going into loop to calculate velocity\n",
                "vel=[]\n",
                "for i in range(2,len(data)):\n",
                "    vel.append(np.sqrt((data[i,0]-data[i-1,0])**2 + (data[i,1]-data[i-1,1])**2 + (data[i,2]-data[i-1,2])**2))\n",
                "# "
            ]
        },
        {
            "cell_type": "markdown",
            "id": "edc9ccef58078fe9b375428021da8087",
            "metadata": {},
            "source": [
                "We also need a range of dates between our simulation date limits to create a beautiful plot:"
            ]
        },
        {
            "cell_type": "code",
            "execution_count": null,
            "id": "0892a848d4e6e9c2f8e41a5ddbe29722",
            "metadata": {
                "execution": {
                    "iopub.execute_input": 252
                }
            },
            "outputs": [],
            "source": [
                "from datetime import datetime, timedelta\n",
                "\n",
                "def generate_fixed_length_date_range(start_date, end_date, length):\n",
                "    delta = (end_date - start_date) / (length - 1)\n",
                "    date_range = [start_date + i * delta for i in range(length)]\n",
                "    return date_range\n",
                "\n",
                "# Define the start and end dates\n",
                "start_date = datetime(2004, 6, 20)\n",
                "end_date = datetime(2004, 12, 1)\n",
                "\n",
                "# Define the desired fixed length\n",
                "length = len(vel)\n",
                "\n",
                "# Generate the fixed length date range\n",
                "date_range = generate_fixed_length_date_range(start_date, end_date, length)"
            ]
        },
        {
            "cell_type": "markdown",
            "id": "f984c8d4d32ee89ed470bed62c704813",
            "metadata": {},
            "source": [
                "Finally, we are ready to plot:"
            ]
        },
        {
            "cell_type": "code",
            "execution_count": null,
            "id": "f855704dd8857b94ff4dea4f40ea4591",
            "metadata": {
                "execution": {
                    "iopub.execute_input": 766
                }
            },
            "outputs": [],
            "source": [
                "plt.plot(date_range, vel)"
            ]
        },
        {
            "cell_type": "markdown",
            "id": "6cbdb1ff61579ac4afc46d9c52815bfd",
            "metadata": {},
            "source": [
                "We can do the same calculations using Pandas lib:"
            ]
        },
        {
            "cell_type": "code",
            "execution_count": null,
            "id": "2f0fb34cbe63863c14cad07a864d5160",
            "metadata": {
                "execution": {
                    "iopub.execute_input": 1227
                }
            },
            "outputs": [],
            "source": [
                "df=citros.topic('/spiceypy_cassini/state').data(['data.data[0]','data.data[1]','data.data[2]'])[['data.data[0]', 'data.data[1]','data.data[2]']]\n",
                "velocity = []\n",
                "for i in range(1, len(df)-1):\n",
                "    velocity.append(np.sqrt(((df.iloc[i+1]- df.iloc[i])**2).sum()))\n",
                "plt.plot(date_range, velocity)"
            ]
        },
        {
            "cell_type": "markdown",
            "id": "a09f25df95fd08cf790a68b33aef24e3",
            "metadata": {},
            "source": [
                "Or, in addition, the same thing but in more tricky way (check our Data Analysis documentation, it's amazing! https://citros.io/doc/docs_data_analysis ):"
            ]
        },
        {
            "cell_type": "code",
            "execution_count": null,
            "id": "cc9048ff62fa75476af59c41e80eb6b7",
            "metadata": {
                "execution": {
                    "iopub.execute_input": 807
                }
            },
            "outputs": [],
            "source": [
                "F = np.sqrt(((df.iloc[0:-1] - df.iloc[1:].reset_index(drop = True))**2).sum(axis = 1))\n",
                "plt.plot(date_range, F.iloc[1:])"
            ]
        }
    ],
    "metadata": {
        "language_info": {
            "name": "python"
        }
    },
    "nbformat": 4,
    "nbformat_minor": 4
}
